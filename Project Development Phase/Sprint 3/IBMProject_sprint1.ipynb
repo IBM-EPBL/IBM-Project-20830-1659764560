{
  "nbformat": 4,
  "nbformat_minor": 0,
  "metadata": {
    "colab": {
      "provenance": []
    },
    "kernelspec": {
      "name": "python3",
      "display_name": "Python 3"
    },
    "language_info": {
      "name": "python"
    }
  },
  "cells": [
    {
      "cell_type": "code",
      "execution_count": null,
      "metadata": {
        "id": "vV7ygToJCUBP"
      },
      "outputs": [],
      "source": [
        "from skimage import feature\n",
        "from imutils import paths\n",
        "from imutils.paths import list_images\n",
        "from google.colab.patches import cv2_imshow\n",
        "import numpy as np\n",
        "import cv2\n",
        "import os\n",
        "import pickle\n",
        "from typing import List"
      ]
    },
    {
      "cell_type": "code",
      "source": [
        "def quantify_image(image):\n",
        "  features=feature.hog(image,orientations=9,pixels_per_cell=(10,10),cells_per_block=(2,2),transform_sqrt= True ,block_norm=\"L1\")\n",
        "  return features"
      ],
      "metadata": {
        "id": "wun5zVHkCf0o"
      },
      "execution_count": null,
      "outputs": []
    },
    {
      "cell_type": "code",
      "source": [
        "def load_split (path) :\n",
        "  imagePaths = list (paths . list_images (path) )\n",
        "  data = []\n",
        "  labels = []\n",
        "  for imagePath in imagePaths:\n",
        "    label = imagePath . split (os . path . sep) [-2]\n",
        "    image = cv2. imread(imagePath)\n",
        "    image = cv2. cvtColor(image, cv2. COLOR_BGR2GRAY)\n",
        "    image = cv2. resize (image, (200, 200) )\n",
        "    image = cv2. threshold(image, 0, 255,\n",
        "    cv2.THRESH_BINARY_INV | cv2. THRESH_OTSU) [1]\n",
        "    features = quantify_image (image)\n",
        "    data.append(features)\n",
        "    labels.append(label)\n",
        "  return (np . array (data) , np . array(labels) )"
      ],
      "metadata": {
        "id": "ejbrtCR7FAfK"
      },
      "execution_count": null,
      "outputs": []
    },
    {
      "cell_type": "code",
      "source": [
        "trainingpath=r\"/content/drive/MyDrive/dataset/spiral/training\"\n",
        "testingpath=r\"/content/drive/MyDrive/dataset/spiral/testing\"\n",
        "\n",
        "(X_train,y_train)=load_split(trainingpath)\n",
        "(X_test,y_test)=load_split(testingpath)"
      ],
      "metadata": {
        "id": "OtaQdgDbFNRw"
      },
      "execution_count": null,
      "outputs": []
    }
  ]
}